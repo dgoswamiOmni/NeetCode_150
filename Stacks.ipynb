{
 "cells": [
  {
   "cell_type": "markdown",
   "metadata": {},
   "source": [
    "## Evaluate Reverse Polish Notation"
   ]
  },
  {
   "cell_type": "code",
   "execution_count": 8,
   "metadata": {},
   "outputs": [],
   "source": [
    "input = [\"10\",\"6\",\"9\",\"3\",\"+\",\"-11\",\"*\",\"/\",\"*\",\"17\",\"+\",\"5\",\"+\"]\n"
   ]
  },
  {
   "cell_type": "code",
   "execution_count": 11,
   "metadata": {},
   "outputs": [
    {
     "name": "stdout",
     "output_type": "stream",
     "text": [
      "Result: 21.545454545454547\n"
     ]
    }
   ],
   "source": [
    "## using lambda functions\n",
    "op_dict = {'+': lambda x, y: x + y,\n",
    "           '*': lambda x, y: x * y,\n",
    "           '/': lambda x, y: x / y,\n",
    "           '-': lambda x, y: x - y}\n",
    "\n",
    "stack = []\n",
    "\n",
    "for i in input:\n",
    "    if i.isdigit() or(i[0]=='-' and i[1:].isdigit()):\n",
    "        stack.append(int(i))  # Convert the string to an integer and push to the stack\n",
    "    else:\n",
    "        operand = op_dict[i]\n",
    "        x = stack.pop()\n",
    "        y = stack.pop()\n",
    "        z = operand(y, x)  # Note the order of operands when performing the operation\n",
    "        stack.append(z)\n",
    "\n",
    "result = stack.pop()\n",
    "print(\"Result:\", result)\n"
   ]
  },
  {
   "cell_type": "code",
   "execution_count": 10,
   "metadata": {},
   "outputs": [
    {
     "name": "stdout",
     "output_type": "stream",
     "text": [
      "22\n"
     ]
    }
   ],
   "source": [
    "# using if else ladder\n",
    "stack=[]\n",
    "for i in input:\n",
    "    if i == '+':\n",
    "        stack.append(stack.pop()+stack.pop())\n",
    "    elif i=='-':\n",
    "        x,y=stack.pop(),stack.pop()\n",
    "        stack.append(y-x)\n",
    "    elif i=='*':\n",
    "        stack.append(stack.pop()*stack.pop())\n",
    "    elif i=='/':\n",
    "        x,y=stack.pop(),stack.pop()\n",
    "        stack.append(int(y/x))\n",
    "    else:\n",
    "        stack.append(int(i))    \n",
    "\n",
    "print(stack.pop())\n"
   ]
  },
  {
   "cell_type": "markdown",
   "metadata": {},
   "source": [
    "## Generate Paranthesis"
   ]
  },
  {
   "cell_type": "code",
   "execution_count": 1,
   "metadata": {},
   "outputs": [],
   "source": [
    "input=3"
   ]
  },
  {
   "cell_type": "code",
   "execution_count": 2,
   "metadata": {},
   "outputs": [],
   "source": [
    "def generate_paranthesis(n):\n",
    "    stack=[]\n",
    "    result=[]\n",
    "    def backtrack(number_open,number_close):\n",
    "        if number_open == number_close == n:\n",
    "            result.append(\"\".join(stack))\n",
    "            return\n",
    "        if number_open<n:\n",
    "            stack.append('(')\n",
    "            backtrack(number_open+1,number_close)\n",
    "            stack.pop()\n",
    "        if number_close<number_open:\n",
    "            stack.append(')')\n",
    "            backtrack(number_open,number_close+1)\n",
    "            stack.pop()\n",
    "\n",
    "    backtrack(0,0)\n",
    "    return result        \n"
   ]
  },
  {
   "cell_type": "code",
   "execution_count": 3,
   "metadata": {},
   "outputs": [
    {
     "data": {
      "text/plain": [
       "['((()))', '(()())', '(())()', '()(())', '()()()']"
      ]
     },
     "execution_count": 3,
     "metadata": {},
     "output_type": "execute_result"
    }
   ],
   "source": [
    "generate_paranthesis(input)"
   ]
  },
  {
   "cell_type": "code",
   "execution_count": 1,
   "metadata": {},
   "outputs": [],
   "source": [
    "input=[73,74,75,71,69,72,76,73]"
   ]
  },
  {
   "cell_type": "code",
   "execution_count": 9,
   "metadata": {},
   "outputs": [],
   "source": [
    "result=[]\n",
    "for i in range(len(input)):\n",
    "    found = False\n",
    "    for j in range(i+1,len(input)):\n",
    "        if input[i]<input[j]:\n",
    "            result.append(j-i)\n",
    "            found = True\n",
    "            break\n",
    "    if not found:\n",
    "        result.append(0)   \n"
   ]
  },
  {
   "cell_type": "code",
   "execution_count": 10,
   "metadata": {},
   "outputs": [
    {
     "data": {
      "text/plain": [
       "[1, 1, 4, 2, 1, 1, 0, 0]"
      ]
     },
     "execution_count": 10,
     "metadata": {},
     "output_type": "execute_result"
    }
   ],
   "source": [
    "result"
   ]
  },
  {
   "cell_type": "code",
   "execution_count": 29,
   "metadata": {},
   "outputs": [],
   "source": [
    "## using stacks\n",
    "\n",
    "def greatest_temp(temp):\n",
    "    stack=[]\n",
    "    result=[0]*len(temp)\n",
    "    for i,t in enumerate(temp):\n",
    "        #while stack is not empty and the current temp is greater than temp at stack top\n",
    "        while stack and t>stack[-1][0]:\n",
    "            # pop stack top\n",
    "            stackT,stackInd=stack.pop()\n",
    "            result[stackInd]=(i-stackInd)\n",
    "\n",
    "        stack.append([t,i])\n",
    "    return result\n"
   ]
  },
  {
   "cell_type": "code",
   "execution_count": 30,
   "metadata": {},
   "outputs": [
    {
     "data": {
      "text/plain": [
       "[1, 1, 4, 2, 1, 1, 0, 0]"
      ]
     },
     "execution_count": 30,
     "metadata": {},
     "output_type": "execute_result"
    }
   ],
   "source": [
    "greatest_temp(input)"
   ]
  },
  {
   "cell_type": "code",
   "execution_count": null,
   "metadata": {},
   "outputs": [],
   "source": []
  }
 ],
 "metadata": {
  "kernelspec": {
   "display_name": "Python 3",
   "language": "python",
   "name": "python3"
  },
  "language_info": {
   "codemirror_mode": {
    "name": "ipython",
    "version": 3
   },
   "file_extension": ".py",
   "mimetype": "text/x-python",
   "name": "python",
   "nbconvert_exporter": "python",
   "pygments_lexer": "ipython3",
   "version": "3.10.13"
  }
 },
 "nbformat": 4,
 "nbformat_minor": 2
}
