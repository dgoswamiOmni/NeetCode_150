{
 "cells": [
  {
   "cell_type": "markdown",
   "metadata": {},
   "source": [
    "## Evaluate Reverse Polish Notation"
   ]
  },
  {
   "cell_type": "code",
   "execution_count": 8,
   "metadata": {},
   "outputs": [],
   "source": [
    "input = [\"10\",\"6\",\"9\",\"3\",\"+\",\"-11\",\"*\",\"/\",\"*\",\"17\",\"+\",\"5\",\"+\"]\n"
   ]
  },
  {
   "cell_type": "code",
   "execution_count": 11,
   "metadata": {},
   "outputs": [
    {
     "name": "stdout",
     "output_type": "stream",
     "text": [
      "Result: 21.545454545454547\n"
     ]
    }
   ],
   "source": [
    "## using lambda functions\n",
    "op_dict = {'+': lambda x, y: x + y,\n",
    "           '*': lambda x, y: x * y,\n",
    "           '/': lambda x, y: x / y,\n",
    "           '-': lambda x, y: x - y}\n",
    "\n",
    "stack = []\n",
    "\n",
    "for i in input:\n",
    "    if i.isdigit() or(i[0]=='-' and i[1:].isdigit()):\n",
    "        stack.append(int(i))  # Convert the string to an integer and push to the stack\n",
    "    else:\n",
    "        operand = op_dict[i]\n",
    "        x = stack.pop()\n",
    "        y = stack.pop()\n",
    "        z = operand(y, x)  # Note the order of operands when performing the operation\n",
    "        stack.append(z)\n",
    "\n",
    "result = stack.pop()\n",
    "print(\"Result:\", result)\n"
   ]
  },
  {
   "cell_type": "code",
   "execution_count": 10,
   "metadata": {},
   "outputs": [
    {
     "name": "stdout",
     "output_type": "stream",
     "text": [
      "22\n"
     ]
    }
   ],
   "source": [
    "# using if else ladder\n",
    "stack=[]\n",
    "for i in input:\n",
    "    if i == '+':\n",
    "        stack.append(stack.pop()+stack.pop())\n",
    "    elif i=='-':\n",
    "        x,y=stack.pop(),stack.pop()\n",
    "        stack.append(y-x)\n",
    "    elif i=='*':\n",
    "        stack.append(stack.pop()*stack.pop())\n",
    "    elif i=='/':\n",
    "        x,y=stack.pop(),stack.pop()\n",
    "        stack.append(int(y/x))\n",
    "    else:\n",
    "        stack.append(int(i))    \n",
    "\n",
    "print(stack.pop())\n"
   ]
  },
  {
   "cell_type": "code",
   "execution_count": null,
   "metadata": {},
   "outputs": [],
   "source": []
  }
 ],
 "metadata": {
  "kernelspec": {
   "display_name": "Python 3",
   "language": "python",
   "name": "python3"
  },
  "language_info": {
   "codemirror_mode": {
    "name": "ipython",
    "version": 3
   },
   "file_extension": ".py",
   "mimetype": "text/x-python",
   "name": "python",
   "nbconvert_exporter": "python",
   "pygments_lexer": "ipython3",
   "version": "3.10.13"
  }
 },
 "nbformat": 4,
 "nbformat_minor": 2
}
